{
 "cells": [
  {
   "cell_type": "markdown",
   "id": "16c7576d",
   "metadata": {},
   "source": [
    "# Import Libraries"
   ]
  },
  {
   "cell_type": "code",
   "execution_count": 1,
   "id": "f8771761",
   "metadata": {},
   "outputs": [],
   "source": [
    "from os import path\n",
    "\n",
    "import pandas as pd\n",
    "\n",
    "from sklearn.model_selection import train_test_split\n",
    "\n",
    "from sklearn.linear_model import LogisticRegression\n",
    "from sklearn.tree import DecisionTreeClassifier\n",
    "from sklearn.ensemble import RandomForestClassifier\n",
    "from sklearn.svm import SVC\n",
    "\n",
    "from sklearn.metrics import accuracy_score, precision_score, recall_score, f1_score, roc_auc_score, classification_report, RocCurveDisplay\n",
    "\n",
    "# Save models in .pkl format\n",
    "from joblib import dump\n",
    "\n",
    "import matplotlib.pyplot as plt\n"
   ]
  },
  {
   "cell_type": "markdown",
   "id": "60a117ac",
   "metadata": {},
   "source": [
    "# Load PCA and Selected Features Datasets"
   ]
  },
  {
   "cell_type": "code",
   "execution_count": 2,
   "id": "e451cc7a",
   "metadata": {},
   "outputs": [
    {
     "data": {
      "text/html": [
       "<div>\n",
       "<style scoped>\n",
       "    .dataframe tbody tr th:only-of-type {\n",
       "        vertical-align: middle;\n",
       "    }\n",
       "\n",
       "    .dataframe tbody tr th {\n",
       "        vertical-align: top;\n",
       "    }\n",
       "\n",
       "    .dataframe thead th {\n",
       "        text-align: right;\n",
       "    }\n",
       "</style>\n",
       "<table border=\"1\" class=\"dataframe\">\n",
       "  <thead>\n",
       "    <tr style=\"text-align: right;\">\n",
       "      <th></th>\n",
       "      <th>PC1</th>\n",
       "      <th>PC2</th>\n",
       "      <th>PC3</th>\n",
       "      <th>PC4</th>\n",
       "      <th>PC5</th>\n",
       "      <th>PC6</th>\n",
       "      <th>PC7</th>\n",
       "      <th>PC8</th>\n",
       "      <th>PC9</th>\n",
       "      <th>PC10</th>\n",
       "      <th>PC11</th>\n",
       "      <th>PC12</th>\n",
       "      <th>PC13</th>\n",
       "      <th>PC14</th>\n",
       "      <th>num</th>\n",
       "    </tr>\n",
       "  </thead>\n",
       "  <tbody>\n",
       "    <tr>\n",
       "      <th>0</th>\n",
       "      <td>-1.087992</td>\n",
       "      <td>0.372638</td>\n",
       "      <td>1.271275</td>\n",
       "      <td>-0.240135</td>\n",
       "      <td>0.576431</td>\n",
       "      <td>0.856537</td>\n",
       "      <td>0.603891</td>\n",
       "      <td>-0.614801</td>\n",
       "      <td>-0.541453</td>\n",
       "      <td>0.245773</td>\n",
       "      <td>0.736680</td>\n",
       "      <td>0.686322</td>\n",
       "      <td>-0.640268</td>\n",
       "      <td>0.368900</td>\n",
       "      <td>0</td>\n",
       "    </tr>\n",
       "    <tr>\n",
       "      <th>1</th>\n",
       "      <td>-2.813771</td>\n",
       "      <td>0.807979</td>\n",
       "      <td>-0.120024</td>\n",
       "      <td>-0.558623</td>\n",
       "      <td>-0.570164</td>\n",
       "      <td>-0.825947</td>\n",
       "      <td>0.571407</td>\n",
       "      <td>0.003537</td>\n",
       "      <td>-0.490289</td>\n",
       "      <td>0.185441</td>\n",
       "      <td>0.161555</td>\n",
       "      <td>-0.754878</td>\n",
       "      <td>-0.485284</td>\n",
       "      <td>-0.437692</td>\n",
       "      <td>2</td>\n",
       "    </tr>\n",
       "    <tr>\n",
       "      <th>2</th>\n",
       "      <td>-2.329030</td>\n",
       "      <td>-1.089585</td>\n",
       "      <td>-0.474496</td>\n",
       "      <td>-0.027767</td>\n",
       "      <td>0.031975</td>\n",
       "      <td>1.028541</td>\n",
       "      <td>0.443364</td>\n",
       "      <td>0.631092</td>\n",
       "      <td>0.359245</td>\n",
       "      <td>0.250978</td>\n",
       "      <td>0.287731</td>\n",
       "      <td>0.055109</td>\n",
       "      <td>0.039899</td>\n",
       "      <td>0.056094</td>\n",
       "      <td>1</td>\n",
       "    </tr>\n",
       "    <tr>\n",
       "      <th>3</th>\n",
       "      <td>1.163143</td>\n",
       "      <td>-0.662409</td>\n",
       "      <td>1.579279</td>\n",
       "      <td>2.340236</td>\n",
       "      <td>1.617635</td>\n",
       "      <td>0.380933</td>\n",
       "      <td>-0.506575</td>\n",
       "      <td>-0.384098</td>\n",
       "      <td>-0.565434</td>\n",
       "      <td>-0.351726</td>\n",
       "      <td>0.162886</td>\n",
       "      <td>-0.532354</td>\n",
       "      <td>-0.092187</td>\n",
       "      <td>-0.393656</td>\n",
       "      <td>0</td>\n",
       "    </tr>\n",
       "    <tr>\n",
       "      <th>4</th>\n",
       "      <td>1.749042</td>\n",
       "      <td>-0.197127</td>\n",
       "      <td>0.929031</td>\n",
       "      <td>0.555730</td>\n",
       "      <td>0.824813</td>\n",
       "      <td>-0.459967</td>\n",
       "      <td>0.946655</td>\n",
       "      <td>0.539861</td>\n",
       "      <td>-0.350032</td>\n",
       "      <td>0.043926</td>\n",
       "      <td>-0.498762</td>\n",
       "      <td>0.214697</td>\n",
       "      <td>0.208312</td>\n",
       "      <td>0.900747</td>\n",
       "      <td>0</td>\n",
       "    </tr>\n",
       "  </tbody>\n",
       "</table>\n",
       "</div>"
      ],
      "text/plain": [
       "        PC1       PC2       PC3       PC4       PC5       PC6       PC7  \\\n",
       "0 -1.087992  0.372638  1.271275 -0.240135  0.576431  0.856537  0.603891   \n",
       "1 -2.813771  0.807979 -0.120024 -0.558623 -0.570164 -0.825947  0.571407   \n",
       "2 -2.329030 -1.089585 -0.474496 -0.027767  0.031975  1.028541  0.443364   \n",
       "3  1.163143 -0.662409  1.579279  2.340236  1.617635  0.380933 -0.506575   \n",
       "4  1.749042 -0.197127  0.929031  0.555730  0.824813 -0.459967  0.946655   \n",
       "\n",
       "        PC8       PC9      PC10      PC11      PC12      PC13      PC14  num  \n",
       "0 -0.614801 -0.541453  0.245773  0.736680  0.686322 -0.640268  0.368900    0  \n",
       "1  0.003537 -0.490289  0.185441  0.161555 -0.754878 -0.485284 -0.437692    2  \n",
       "2  0.631092  0.359245  0.250978  0.287731  0.055109  0.039899  0.056094    1  \n",
       "3 -0.384098 -0.565434 -0.351726  0.162886 -0.532354 -0.092187 -0.393656    0  \n",
       "4  0.539861 -0.350032  0.043926 -0.498762  0.214697  0.208312  0.900747    0  "
      ]
     },
     "execution_count": 2,
     "metadata": {},
     "output_type": "execute_result"
    }
   ],
   "source": [
    "df_pca = pd.read_csv(path.join(\"..\", \"data\", \"heart_disease_pca.csv\"))\n",
    "df_pca.head()"
   ]
  },
  {
   "cell_type": "code",
   "execution_count": 3,
   "id": "8c242c67",
   "metadata": {},
   "outputs": [
    {
     "data": {
      "text/html": [
       "<div>\n",
       "<style scoped>\n",
       "    .dataframe tbody tr th:only-of-type {\n",
       "        vertical-align: middle;\n",
       "    }\n",
       "\n",
       "    .dataframe tbody tr th {\n",
       "        vertical-align: top;\n",
       "    }\n",
       "\n",
       "    .dataframe thead th {\n",
       "        text-align: right;\n",
       "    }\n",
       "</style>\n",
       "<table border=\"1\" class=\"dataframe\">\n",
       "  <thead>\n",
       "    <tr style=\"text-align: right;\">\n",
       "      <th></th>\n",
       "      <th>age</th>\n",
       "      <th>cp_asymptomatic</th>\n",
       "      <th>trestbps</th>\n",
       "      <th>chol</th>\n",
       "      <th>thalach</th>\n",
       "      <th>exang_yes</th>\n",
       "      <th>oldpeak</th>\n",
       "      <th>slope_upsloping</th>\n",
       "      <th>slope_flat</th>\n",
       "      <th>ca_0</th>\n",
       "      <th>ca_2</th>\n",
       "      <th>ca_3</th>\n",
       "      <th>thal_normal</th>\n",
       "      <th>thal_reversible_defect</th>\n",
       "      <th>num</th>\n",
       "    </tr>\n",
       "  </thead>\n",
       "  <tbody>\n",
       "    <tr>\n",
       "      <th>0</th>\n",
       "      <td>0.936181</td>\n",
       "      <td>0.0</td>\n",
       "      <td>0.750380</td>\n",
       "      <td>-0.276443</td>\n",
       "      <td>0.017494</td>\n",
       "      <td>0.0</td>\n",
       "      <td>1.068965</td>\n",
       "      <td>0.0</td>\n",
       "      <td>0.0</td>\n",
       "      <td>1.0</td>\n",
       "      <td>0.0</td>\n",
       "      <td>0.0</td>\n",
       "      <td>0.0</td>\n",
       "      <td>0.0</td>\n",
       "      <td>0</td>\n",
       "    </tr>\n",
       "    <tr>\n",
       "      <th>1</th>\n",
       "      <td>1.378929</td>\n",
       "      <td>1.0</td>\n",
       "      <td>1.596266</td>\n",
       "      <td>0.744555</td>\n",
       "      <td>-1.816334</td>\n",
       "      <td>1.0</td>\n",
       "      <td>0.381773</td>\n",
       "      <td>0.0</td>\n",
       "      <td>1.0</td>\n",
       "      <td>0.0</td>\n",
       "      <td>0.0</td>\n",
       "      <td>1.0</td>\n",
       "      <td>1.0</td>\n",
       "      <td>0.0</td>\n",
       "      <td>2</td>\n",
       "    </tr>\n",
       "    <tr>\n",
       "      <th>2</th>\n",
       "      <td>1.378929</td>\n",
       "      <td>1.0</td>\n",
       "      <td>-0.659431</td>\n",
       "      <td>-0.353500</td>\n",
       "      <td>-0.899420</td>\n",
       "      <td>1.0</td>\n",
       "      <td>1.326662</td>\n",
       "      <td>0.0</td>\n",
       "      <td>1.0</td>\n",
       "      <td>0.0</td>\n",
       "      <td>1.0</td>\n",
       "      <td>0.0</td>\n",
       "      <td>0.0</td>\n",
       "      <td>1.0</td>\n",
       "      <td>1</td>\n",
       "    </tr>\n",
       "    <tr>\n",
       "      <th>3</th>\n",
       "      <td>-1.941680</td>\n",
       "      <td>0.0</td>\n",
       "      <td>-0.095506</td>\n",
       "      <td>0.051047</td>\n",
       "      <td>1.633010</td>\n",
       "      <td>0.0</td>\n",
       "      <td>2.099753</td>\n",
       "      <td>0.0</td>\n",
       "      <td>0.0</td>\n",
       "      <td>1.0</td>\n",
       "      <td>0.0</td>\n",
       "      <td>0.0</td>\n",
       "      <td>1.0</td>\n",
       "      <td>0.0</td>\n",
       "      <td>0</td>\n",
       "    </tr>\n",
       "    <tr>\n",
       "      <th>4</th>\n",
       "      <td>-1.498933</td>\n",
       "      <td>0.0</td>\n",
       "      <td>-0.095506</td>\n",
       "      <td>-0.835103</td>\n",
       "      <td>0.978071</td>\n",
       "      <td>0.0</td>\n",
       "      <td>0.295874</td>\n",
       "      <td>1.0</td>\n",
       "      <td>0.0</td>\n",
       "      <td>1.0</td>\n",
       "      <td>0.0</td>\n",
       "      <td>0.0</td>\n",
       "      <td>1.0</td>\n",
       "      <td>0.0</td>\n",
       "      <td>0</td>\n",
       "    </tr>\n",
       "  </tbody>\n",
       "</table>\n",
       "</div>"
      ],
      "text/plain": [
       "        age  cp_asymptomatic  trestbps      chol   thalach  exang_yes  \\\n",
       "0  0.936181              0.0  0.750380 -0.276443  0.017494        0.0   \n",
       "1  1.378929              1.0  1.596266  0.744555 -1.816334        1.0   \n",
       "2  1.378929              1.0 -0.659431 -0.353500 -0.899420        1.0   \n",
       "3 -1.941680              0.0 -0.095506  0.051047  1.633010        0.0   \n",
       "4 -1.498933              0.0 -0.095506 -0.835103  0.978071        0.0   \n",
       "\n",
       "    oldpeak  slope_upsloping  slope_flat  ca_0  ca_2  ca_3  thal_normal  \\\n",
       "0  1.068965              0.0         0.0   1.0   0.0   0.0          0.0   \n",
       "1  0.381773              0.0         1.0   0.0   0.0   1.0          1.0   \n",
       "2  1.326662              0.0         1.0   0.0   1.0   0.0          0.0   \n",
       "3  2.099753              0.0         0.0   1.0   0.0   0.0          1.0   \n",
       "4  0.295874              1.0         0.0   1.0   0.0   0.0          1.0   \n",
       "\n",
       "   thal_reversible_defect  num  \n",
       "0                     0.0    0  \n",
       "1                     0.0    2  \n",
       "2                     1.0    1  \n",
       "3                     0.0    0  \n",
       "4                     0.0    0  "
      ]
     },
     "execution_count": 3,
     "metadata": {},
     "output_type": "execute_result"
    }
   ],
   "source": [
    "df_selected_features = pd.read_csv(path.join(\"..\", \"data\", \"heart_disease_selected_features.csv\"))\n",
    "df_selected_features.head()"
   ]
  },
  {
   "cell_type": "markdown",
   "id": "cd7ee5bf",
   "metadata": {},
   "source": [
    "# Separate Features and Target and convert Target to Binary"
   ]
  },
  {
   "cell_type": "code",
   "execution_count": 4,
   "id": "9c8116d9",
   "metadata": {},
   "outputs": [],
   "source": [
    "X_pca = df_pca.drop(columns=[\"num\"])\n",
    "X_selected_features = df_selected_features.drop(columns=[\"num\"])\n",
    "\n",
    "y = df_pca[\"num\"]"
   ]
  },
  {
   "cell_type": "code",
   "execution_count": 5,
   "id": "07ac5f4a",
   "metadata": {},
   "outputs": [],
   "source": [
    "X_pca = df_pca.drop(columns=[\"num\"])\n",
    "X_selected_features = df_selected_features.drop(columns=[\"num\"])\n",
    "\n",
    "y = df_pca[\"num\"]"
   ]
  },
  {
   "cell_type": "code",
   "execution_count": 6,
   "id": "3246f738",
   "metadata": {},
   "outputs": [],
   "source": [
    "# Convert to binary classification\n",
    "y = y.apply(lambda x: 1 if x > 0 else 0)"
   ]
  },
  {
   "cell_type": "markdown",
   "id": "5e6bab61",
   "metadata": {},
   "source": [
    "# Check for Target Imbalance"
   ]
  },
  {
   "cell_type": "code",
   "execution_count": 7,
   "id": "45abdb8c",
   "metadata": {},
   "outputs": [
    {
     "data": {
      "image/png": "[encoded data removed]",
      "text/plain": [
       "<Figure size 1000x600 with 1 Axes>"
      ]
     },
     "metadata": {},
     "output_type": "display_data"
    }
   ],
   "source": [
    "plt.figure(figsize=(10, 6))\n",
    "plt.hist(y, bins=3, edgecolor='k')\n",
    "plt.xticks([0, 1], ['No Heart Disease', 'Heart Disease'])\n",
    "plt.xlabel('Heart Disease Status')\n",
    "plt.ylabel('Frequency')\n",
    "plt.title('Distribution of Heart Disease Status')\n",
    "plt.grid(axis='y')\n",
    "plt.show()"
   ]
  },
  {
   "cell_type": "markdown",
   "id": "bc8588e9",
   "metadata": {},
   "source": [
    "The data is slightly imbalanced."
   ]
  },
  {
   "cell_type": "markdown",
   "id": "cee0d1ec",
   "metadata": {},
   "source": [
    "# Split Data into Training and Testing Sets"
   ]
  },
  {
   "cell_type": "code",
   "execution_count": 8,
   "id": "50ec688e",
   "metadata": {},
   "outputs": [],
   "source": [
    "# training (80%) and testing (20%) \n",
    "X_train_pca, X_test_pca, y_train, y_test = train_test_split(X_pca, y, test_size=0.2, random_state=42)\n",
    "\n",
    "X_train_selected, X_test_selected, _, _ = train_test_split(X_selected_features, y, test_size=0.2, random_state=42)"
   ]
  },
  {
   "cell_type": "markdown",
   "id": "36f6d26c",
   "metadata": {},
   "source": [
    "# Train Models"
   ]
  },
  {
   "cell_type": "markdown",
   "id": "d8c19325",
   "metadata": {},
   "source": [
    "## Utility Function for Training"
   ]
  },
  {
   "cell_type": "code",
   "execution_count": 9,
   "id": "c60dfc6d",
   "metadata": {},
   "outputs": [],
   "source": [
    "def train_predict_model(model, X_train, y_train, X_test):\n",
    "    model.fit(X_train, y_train)\n",
    "    y_pred = model.predict(X_test)\n",
    "    # For ROC AUC score, we need predicted probabilities\n",
    "    y_pred_proba = model.predict_proba(X_test)[:, 1]\n",
    "    return y_pred, y_pred_proba"
   ]
  },
  {
   "cell_type": "markdown",
   "id": "a595baab",
   "metadata": {},
   "source": [
    "## Logistic Regression"
   ]
  },
  {
   "cell_type": "code",
   "execution_count": 10,
   "id": "88e3b019",
   "metadata": {},
   "outputs": [],
   "source": [
    "lr_pca_model = LogisticRegression()\n",
    "\n",
    "y_pred_lr_pca, y_pred_proba_lr_pca = train_predict_model(lr_pca_model, X_train_pca, y_train, X_test_pca)"
   ]
  },
  {
   "cell_type": "code",
   "execution_count": 11,
   "id": "6fc2d98e",
   "metadata": {},
   "outputs": [],
   "source": [
    "lr_selected_model = LogisticRegression()\n",
    "\n",
    "y_pred_lr_selected, y_pred_proba_lr_selected = train_predict_model(lr_selected_model, X_train_selected, y_train, X_test_selected)"
   ]
  },
  {
   "cell_type": "markdown",
   "id": "a630ad96",
   "metadata": {},
   "source": [
    "## Decision Tree"
   ]
  },
  {
   "cell_type": "code",
   "execution_count": 12,
   "id": "3c243295",
   "metadata": {},
   "outputs": [],
   "source": [
    "dt_pca_model = DecisionTreeClassifier()\n",
    "\n",
    "y_pred_dt_pca, y_pred_proba_dt_pca = train_predict_model(dt_pca_model, X_train_pca, y_train, X_test_pca)"
   ]
  },
  {
   "cell_type": "code",
   "execution_count": 13,
   "id": "d356a3b8",
   "metadata": {},
   "outputs": [],
   "source": [
    "dt_selected_model = DecisionTreeClassifier()\n",
    "\n",
    "y_pred_dt_selected, y_pred_proba_dt_selected = train_predict_model(dt_selected_model, X_train_selected, y_train, X_test_selected)"
   ]
  },
  {
   "cell_type": "markdown",
   "id": "a6f727d0",
   "metadata": {},
   "source": [
    "## Random Forest"
   ]
  },
  {
   "cell_type": "code",
   "execution_count": 14,
   "id": "347da57f",
   "metadata": {},
   "outputs": [],
   "source": [
    "rf_pca_model = RandomForestClassifier()\n",
    "\n",
    "y_pred_rf_pca, y_pred_proba_rf_pca = train_predict_model(rf_pca_model, X_train_pca, y_train, X_test_pca)"
   ]
  },
  {
   "cell_type": "code",
   "execution_count": 15,
   "id": "7d6408d0",
   "metadata": {},
   "outputs": [],
   "source": [
    "rf_selected_model = RandomForestClassifier()\n",
    "\n",
    "y_pred_rf_selected, y_pred_proba_rf_selected = train_predict_model(rf_selected_model, X_train_selected, y_train, X_test_selected)"
   ]
  },
  {
   "cell_type": "markdown",
   "id": "5772135d",
   "metadata": {},
   "source": [
    "## Support Vector Machine (SVM)"
   ]
  },
  {
   "cell_type": "code",
   "execution_count": 16,
   "id": "7a742e05",
   "metadata": {},
   "outputs": [],
   "source": [
    "svm_pca_model = SVC(probability=True)\n",
    "\n",
    "y_pred_svm_pca, y_pred_proba_svm_pca = train_predict_model(svm_pca_model, X_train_pca, y_train, X_test_pca)"
   ]
  },
  {
   "cell_type": "code",
   "execution_count": 17,
   "id": "28e78539",
   "metadata": {},
   "outputs": [],
   "source": [
    "svm_selected_model = SVC(probability=True)\n",
    "\n",
    "y_pred_svm_selected, y_pred_proba_svm_selected = train_predict_model(svm_selected_model, X_train_selected, y_train, X_test_selected)"
   ]
  },
  {
   "cell_type": "markdown",
   "id": "3fefcdcb",
   "metadata": {},
   "source": [
    "# Evaluate Models"
   ]
  },
  {
   "cell_type": "markdown",
   "id": "ec6c50a6",
   "metadata": {},
   "source": [
    "## Utility Functions for Evaluation"
   ]
  },
  {
   "cell_type": "code",
   "execution_count": 18,
   "id": "de0e7d4d",
   "metadata": {},
   "outputs": [],
   "source": [
    "def save_evaluation(model_name, metrics, report, file_path, mode):\n",
    "    with open(file_path, mode) as f:\n",
    "        f.write(f\"{model_name}:\\n\\n\")\n",
    "        for metric_name, value in metrics.items():\n",
    "            f.write(f\"{metric_name}: {value:.4f}\\n\")\n",
    "        f.write(\"Classification Report:\\n\")\n",
    "        f.write(report)\n",
    "        f.write(\"\\n\" + \"=\"*53 + \"\\n\\n\")"
   ]
  },
  {
   "cell_type": "code",
   "execution_count": 19,
   "id": "12528746",
   "metadata": {},
   "outputs": [],
   "source": [
    "file_path = path.join(\"..\", \"results\", \"supervised_baseline_models_evaluation.txt\")\n",
    "\n",
    "def evaluate_model(y_true, y_pred, y_pred_proba, model_name):\n",
    "    accuracy = accuracy_score(y_true, y_pred)\n",
    "    precision = precision_score(y_true, y_pred, zero_division=0)\n",
    "    recall = recall_score(y_true, y_pred, zero_division=0)\n",
    "    f1 = f1_score(y_true, y_pred, zero_division=0)\n",
    "    roc_auc = roc_auc_score(y_true, y_pred_proba)\n",
    "    report = classification_report(y_true, y_pred, zero_division=0)\n",
    "\n",
    "    print(f\"Model: {model_name}\\n\")\n",
    "    print(f\"Accuracy: {accuracy:.4f}\")\n",
    "    print(f\"Precision: {precision:.4f}\")\n",
    "    print(f\"Recall: {recall:.4f}\")\n",
    "    print(f\"F1 Score: {f1:.4f}\")\n",
    "    print(f\"ROC AUC: {roc_auc:.4f}\")\n",
    "    print(report)\n",
    "\n",
    "    # save metrics to a text file\n",
    "    metrics = {\n",
    "        \"Accuracy\": accuracy,\n",
    "        \"Precision\": precision,\n",
    "        \"Recall\": recall,\n",
    "        \"F1 Score\": f1,\n",
    "        \"ROC AUC\": roc_auc\n",
    "    }\n",
    "    mode = 'a' if model_name != \"Logistic Regression (PCA)\" else 'w'\n",
    "    save_evaluation(model_name, metrics, report, file_path, mode)\n",
    "\n",
    "    return [accuracy, precision, recall, f1, roc_auc]"
   ]
  },
  {
   "cell_type": "code",
   "execution_count": 20,
   "id": "8ee44c92",
   "metadata": {},
   "outputs": [],
   "source": [
    "models_names = [\n",
    "    \"Logistic Regression (PCA)\",\n",
    "    \"Logistic Regression (Selected Features)\",\n",
    "    \"Decision Tree (PCA)\",\n",
    "    \"Decision Tree (Selected Features)\",\n",
    "    \"Random Forest (PCA)\",\n",
    "    \"Random Forest (Selected Features)\",\n",
    "    \"SVM (PCA)\",\n",
    "    \"SVM (Selected Features)\"\n",
    "]"
   ]
  },
  {
   "cell_type": "markdown",
   "id": "e302fd4b",
   "metadata": {},
   "source": [
    "## Logistic Regression"
   ]
  },
  {
   "cell_type": "code",
   "execution_count": 21,
   "id": "b8858fd1",
   "metadata": {},
   "outputs": [
    {
     "name": "stdout",
     "output_type": "stream",
     "text": [
      "Model: Logistic Regression (PCA)\n",
      "\n",
      "Accuracy: 0.8500\n",
      "Precision: 0.7586\n",
      "Recall: 0.9167\n",
      "F1 Score: 0.8302\n",
      "ROC AUC: 0.9387\n",
      "              precision    recall  f1-score   support\n",
      "\n",
      "           0       0.94      0.81      0.87        36\n",
      "           1       0.76      0.92      0.83        24\n",
      "\n",
      "    accuracy                           0.85        60\n",
      "   macro avg       0.85      0.86      0.85        60\n",
      "weighted avg       0.86      0.85      0.85        60\n",
      "\n"
     ]
    }
   ],
   "source": [
    "lr_pca_eval = evaluate_model(y_test, y_pred_lr_pca, y_pred_proba_lr_pca, models_names[0])"
   ]
  },
  {
   "cell_type": "code",
   "execution_count": 22,
   "id": "8a89d5e7",
   "metadata": {},
   "outputs": [
    {
     "name": "stdout",
     "output_type": "stream",
     "text": [
      "Model: Logistic Regression (Selected Features)\n",
      "\n",
      "Accuracy: 0.8333\n",
      "Precision: 0.7500\n",
      "Recall: 0.8750\n",
      "F1 Score: 0.8077\n",
      "ROC AUC: 0.9444\n",
      "              precision    recall  f1-score   support\n",
      "\n",
      "           0       0.91      0.81      0.85        36\n",
      "           1       0.75      0.88      0.81        24\n",
      "\n",
      "    accuracy                           0.83        60\n",
      "   macro avg       0.83      0.84      0.83        60\n",
      "weighted avg       0.84      0.83      0.83        60\n",
      "\n"
     ]
    }
   ],
   "source": [
    "lr_sel_eval = evaluate_model(y_test, y_pred_lr_selected, y_pred_proba_lr_selected, models_names[1])"
   ]
  },
  {
   "cell_type": "markdown",
   "id": "2f33e31a",
   "metadata": {},
   "source": [
    "## Decision Tree"
   ]
  },
  {
   "cell_type": "code",
   "execution_count": 23,
   "id": "eca7b108",
   "metadata": {},
   "outputs": [
    {
     "name": "stdout",
     "output_type": "stream",
     "text": [
      "Model: Decision Tree (PCA)\n",
      "\n",
      "Accuracy: 0.7333\n",
      "Precision: 0.6429\n",
      "Recall: 0.7500\n",
      "F1 Score: 0.6923\n",
      "ROC AUC: 0.7361\n",
      "              precision    recall  f1-score   support\n",
      "\n",
      "           0       0.81      0.72      0.76        36\n",
      "           1       0.64      0.75      0.69        24\n",
      "\n",
      "    accuracy                           0.73        60\n",
      "   macro avg       0.73      0.74      0.73        60\n",
      "weighted avg       0.74      0.73      0.74        60\n",
      "\n"
     ]
    }
   ],
   "source": [
    "dt_pca_eval = evaluate_model(y_test, y_pred_dt_pca, y_pred_proba_dt_pca, models_names[2])"
   ]
  },
  {
   "cell_type": "code",
   "execution_count": 24,
   "id": "cf71343e",
   "metadata": {},
   "outputs": [
    {
     "name": "stdout",
     "output_type": "stream",
     "text": [
      "Model: Decision Tree (Selected Features)\n",
      "\n",
      "Accuracy: 0.8167\n",
      "Precision: 0.7407\n",
      "Recall: 0.8333\n",
      "F1 Score: 0.7843\n",
      "ROC AUC: 0.8194\n",
      "              precision    recall  f1-score   support\n",
      "\n",
      "           0       0.88      0.81      0.84        36\n",
      "           1       0.74      0.83      0.78        24\n",
      "\n",
      "    accuracy                           0.82        60\n",
      "   macro avg       0.81      0.82      0.81        60\n",
      "weighted avg       0.82      0.82      0.82        60\n",
      "\n"
     ]
    }
   ],
   "source": [
    "dt_sel_eval = evaluate_model(y_test, y_pred_dt_selected, y_pred_proba_dt_selected, models_names[3])"
   ]
  },
  {
   "cell_type": "markdown",
   "id": "0c7ce4b8",
   "metadata": {},
   "source": [
    "## Random Forest"
   ]
  },
  {
   "cell_type": "code",
   "execution_count": 25,
   "id": "1a758b84",
   "metadata": {},
   "outputs": [
    {
     "name": "stdout",
     "output_type": "stream",
     "text": [
      "Model: Random Forest (PCA)\n",
      "\n",
      "Accuracy: 0.8500\n",
      "Precision: 0.8000\n",
      "Recall: 0.8333\n",
      "F1 Score: 0.8163\n",
      "ROC AUC: 0.9468\n",
      "              precision    recall  f1-score   support\n",
      "\n",
      "           0       0.89      0.86      0.87        36\n",
      "           1       0.80      0.83      0.82        24\n",
      "\n",
      "    accuracy                           0.85        60\n",
      "   macro avg       0.84      0.85      0.84        60\n",
      "weighted avg       0.85      0.85      0.85        60\n",
      "\n"
     ]
    }
   ],
   "source": [
    "rf_pca_eval = evaluate_model(y_test, y_pred_rf_pca, y_pred_proba_rf_pca, models_names[4])"
   ]
  },
  {
   "cell_type": "code",
   "execution_count": 26,
   "id": "8bb642c5",
   "metadata": {},
   "outputs": [
    {
     "name": "stdout",
     "output_type": "stream",
     "text": [
      "Model: Random Forest (Selected Features)\n",
      "\n",
      "Accuracy: 0.8833\n",
      "Precision: 0.8400\n",
      "Recall: 0.8750\n",
      "F1 Score: 0.8571\n",
      "ROC AUC: 0.9525\n",
      "              precision    recall  f1-score   support\n",
      "\n",
      "           0       0.91      0.89      0.90        36\n",
      "           1       0.84      0.88      0.86        24\n",
      "\n",
      "    accuracy                           0.88        60\n",
      "   macro avg       0.88      0.88      0.88        60\n",
      "weighted avg       0.88      0.88      0.88        60\n",
      "\n"
     ]
    }
   ],
   "source": [
    "rf_sel_eval = evaluate_model(y_test, y_pred_rf_selected, y_pred_proba_rf_selected, models_names[5])"
   ]
  },
  {
   "cell_type": "markdown",
   "id": "a5feddab",
   "metadata": {},
   "source": [
    "## Support Vector Machine (SVM)"
   ]
  },
  {
   "cell_type": "code",
   "execution_count": 27,
   "id": "ea227d8c",
   "metadata": {},
   "outputs": [
    {
     "name": "stdout",
     "output_type": "stream",
     "text": [
      "Model: SVM (PCA)\n",
      "\n",
      "Accuracy: 0.9000\n",
      "Precision: 0.8462\n",
      "Recall: 0.9167\n",
      "F1 Score: 0.8800\n",
      "ROC AUC: 0.9352\n",
      "              precision    recall  f1-score   support\n",
      "\n",
      "           0       0.94      0.89      0.91        36\n",
      "           1       0.85      0.92      0.88        24\n",
      "\n",
      "    accuracy                           0.90        60\n",
      "   macro avg       0.89      0.90      0.90        60\n",
      "weighted avg       0.90      0.90      0.90        60\n",
      "\n"
     ]
    }
   ],
   "source": [
    "svm_pca_eval = evaluate_model(y_test, y_pred_svm_pca, y_pred_proba_svm_pca, models_names[6])"
   ]
  },
  {
   "cell_type": "code",
   "execution_count": 28,
   "id": "e26cfd82",
   "metadata": {},
   "outputs": [
    {
     "name": "stdout",
     "output_type": "stream",
     "text": [
      "Model: SVM (Selected Features)\n",
      "\n",
      "Accuracy: 0.8833\n",
      "Precision: 0.8696\n",
      "Recall: 0.8333\n",
      "F1 Score: 0.8511\n",
      "ROC AUC: 0.9421\n",
      "              precision    recall  f1-score   support\n",
      "\n",
      "           0       0.89      0.92      0.90        36\n",
      "           1       0.87      0.83      0.85        24\n",
      "\n",
      "    accuracy                           0.88        60\n",
      "   macro avg       0.88      0.88      0.88        60\n",
      "weighted avg       0.88      0.88      0.88        60\n",
      "\n"
     ]
    }
   ],
   "source": [
    "svm_sel_eval = evaluate_model(y_test, y_pred_svm_selected, y_pred_proba_svm_selected, models_names[7])"
   ]
  },
  {
   "cell_type": "markdown",
   "id": "82e0de43",
   "metadata": {},
   "source": [
    "## ROC Curves"
   ]
  },
  {
   "cell_type": "code",
   "execution_count": 29,
   "id": "08ad8969",
   "metadata": {},
   "outputs": [
    {
     "data": {
      "image/png": "[encoded data removed]",
      "text/plain": [
       "<Figure size 1000x800 with 1 Axes>"
      ]
     },
     "metadata": {},
     "output_type": "display_data"
    }
   ],
   "source": [
    "# display PCA ROC curves of all models in one plot\n",
    "plt.figure(figsize=(10, 8))\n",
    "plt.plot([0, 1], [0, 1], 'k--', label='Random Guessing')\n",
    "RocCurveDisplay.from_predictions(y_test, y_pred_proba_lr_pca, name='Logistic Regression', ax=plt.gca())\n",
    "RocCurveDisplay.from_predictions(y_test, y_pred_proba_dt_pca, name='Decision Tree', ax=plt.gca())\n",
    "RocCurveDisplay.from_predictions(y_test, y_pred_proba_rf_pca, name='Random Forest', ax=plt.gca())\n",
    "RocCurveDisplay.from_predictions(y_test, y_pred_proba_svm_pca, name='SVM', ax=plt.gca())\n",
    "plt.title('ROC Curves (PCA)')\n",
    "plt.xlabel('False Positive Rate')\n",
    "plt.ylabel('True Positive Rate')\n",
    "plt.legend()\n",
    "plt.show()\n"
   ]
  },
  {
   "cell_type": "code",
   "execution_count": 30,
   "id": "bffeb9a7",
   "metadata": {},
   "outputs": [
    {
     "data": {
      "image/png": "[encoded data removed]",
      "text/plain": [
       "<Figure size 1000x800 with 1 Axes>"
      ]
     },
     "metadata": {},
     "output_type": "display_data"
    }
   ],
   "source": [
    "plt.figure(figsize=(10, 8))\n",
    "plt.plot([0, 1], [0, 1], 'k--', label='Random Guessing')\n",
    "RocCurveDisplay.from_predictions(y_test, y_pred_proba_lr_selected, name='Logistic Regression', ax=plt.gca())\n",
    "RocCurveDisplay.from_predictions(y_test, y_pred_proba_dt_selected, name='Decision Tree', ax=plt.gca())\n",
    "RocCurveDisplay.from_predictions(y_test, y_pred_proba_rf_selected, name='Random Forest', ax=plt.gca())\n",
    "RocCurveDisplay.from_predictions(y_test, y_pred_proba_svm_selected, name='SVM', ax=plt.gca())\n",
    "plt.title('ROC Curves (Selected Features)')\n",
    "plt.xlabel('False Positive Rate')\n",
    "plt.ylabel('True Positive Rate')\n",
    "plt.legend()\n",
    "plt.show()"
   ]
  },
  {
   "cell_type": "markdown",
   "id": "28b4128b",
   "metadata": {},
   "source": [
    "# Compare Models"
   ]
  },
  {
   "cell_type": "code",
   "execution_count": 31,
   "id": "8ba5a122",
   "metadata": {},
   "outputs": [
    {
     "data": {
      "text/html": [
       "<div>\n",
       "<style scoped>\n",
       "    .dataframe tbody tr th:only-of-type {\n",
       "        vertical-align: middle;\n",
       "    }\n",
       "\n",
       "    .dataframe tbody tr th {\n",
       "        vertical-align: top;\n",
       "    }\n",
       "\n",
       "    .dataframe thead th {\n",
       "        text-align: right;\n",
       "    }\n",
       "</style>\n",
       "<table border=\"1\" class=\"dataframe\">\n",
       "  <thead>\n",
       "    <tr style=\"text-align: right;\">\n",
       "      <th></th>\n",
       "      <th>Model</th>\n",
       "      <th>Accuracy</th>\n",
       "      <th>Precision</th>\n",
       "      <th>Recall</th>\n",
       "      <th>F1 Score</th>\n",
       "      <th>ROC AUC</th>\n",
       "    </tr>\n",
       "  </thead>\n",
       "  <tbody>\n",
       "    <tr>\n",
       "      <th>0</th>\n",
       "      <td>Logistic Regression (PCA)</td>\n",
       "      <td>0.8500</td>\n",
       "      <td>0.7586</td>\n",
       "      <td>0.9167</td>\n",
       "      <td>0.8302</td>\n",
       "      <td>0.9387</td>\n",
       "    </tr>\n",
       "    <tr>\n",
       "      <th>1</th>\n",
       "      <td>Logistic Regression (Selected Features)</td>\n",
       "      <td>0.8333</td>\n",
       "      <td>0.7500</td>\n",
       "      <td>0.8750</td>\n",
       "      <td>0.8077</td>\n",
       "      <td>0.9444</td>\n",
       "    </tr>\n",
       "    <tr>\n",
       "      <th>2</th>\n",
       "      <td>Decision Tree (PCA)</td>\n",
       "      <td>0.7333</td>\n",
       "      <td>0.6429</td>\n",
       "      <td>0.7500</td>\n",
       "      <td>0.6923</td>\n",
       "      <td>0.7361</td>\n",
       "    </tr>\n",
       "    <tr>\n",
       "      <th>3</th>\n",
       "      <td>Decision Tree (Selected Features)</td>\n",
       "      <td>0.8167</td>\n",
       "      <td>0.7407</td>\n",
       "      <td>0.8333</td>\n",
       "      <td>0.7843</td>\n",
       "      <td>0.8194</td>\n",
       "    </tr>\n",
       "    <tr>\n",
       "      <th>4</th>\n",
       "      <td>Random Forest (PCA)</td>\n",
       "      <td>0.8500</td>\n",
       "      <td>0.8000</td>\n",
       "      <td>0.8333</td>\n",
       "      <td>0.8163</td>\n",
       "      <td>0.9468</td>\n",
       "    </tr>\n",
       "    <tr>\n",
       "      <th>5</th>\n",
       "      <td>Random Forest (Selected Features)</td>\n",
       "      <td>0.8833</td>\n",
       "      <td>0.8400</td>\n",
       "      <td>0.8750</td>\n",
       "      <td>0.8571</td>\n",
       "      <td>0.9525</td>\n",
       "    </tr>\n",
       "    <tr>\n",
       "      <th>6</th>\n",
       "      <td>SVM (PCA)</td>\n",
       "      <td>0.9000</td>\n",
       "      <td>0.8462</td>\n",
       "      <td>0.9167</td>\n",
       "      <td>0.8800</td>\n",
       "      <td>0.9352</td>\n",
       "    </tr>\n",
       "    <tr>\n",
       "      <th>7</th>\n",
       "      <td>SVM (Selected Features)</td>\n",
       "      <td>0.8833</td>\n",
       "      <td>0.8696</td>\n",
       "      <td>0.8333</td>\n",
       "      <td>0.8511</td>\n",
       "      <td>0.9421</td>\n",
       "    </tr>\n",
       "  </tbody>\n",
       "</table>\n",
       "</div>"
      ],
      "text/plain": [
       "                                     Model  Accuracy  Precision  Recall  \\\n",
       "0                Logistic Regression (PCA)    0.8500     0.7586  0.9167   \n",
       "1  Logistic Regression (Selected Features)    0.8333     0.7500  0.8750   \n",
       "2                      Decision Tree (PCA)    0.7333     0.6429  0.7500   \n",
       "3        Decision Tree (Selected Features)    0.8167     0.7407  0.8333   \n",
       "4                      Random Forest (PCA)    0.8500     0.8000  0.8333   \n",
       "5        Random Forest (Selected Features)    0.8833     0.8400  0.8750   \n",
       "6                                SVM (PCA)    0.9000     0.8462  0.9167   \n",
       "7                  SVM (Selected Features)    0.8833     0.8696  0.8333   \n",
       "\n",
       "   F1 Score  ROC AUC  \n",
       "0    0.8302   0.9387  \n",
       "1    0.8077   0.9444  \n",
       "2    0.6923   0.7361  \n",
       "3    0.7843   0.8194  \n",
       "4    0.8163   0.9468  \n",
       "5    0.8571   0.9525  \n",
       "6    0.8800   0.9352  \n",
       "7    0.8511   0.9421  "
      ]
     },
     "execution_count": 31,
     "metadata": {},
     "output_type": "execute_result"
    }
   ],
   "source": [
    "results = pd.DataFrame({\n",
    "    \"Model\": models_names,\n",
    "    \"Accuracy\": [\n",
    "        lr_pca_eval[0], lr_sel_eval[0],\n",
    "        dt_pca_eval[0], dt_sel_eval[0],\n",
    "        rf_pca_eval[0], rf_sel_eval[0],\n",
    "        svm_pca_eval[0], svm_sel_eval[0]\n",
    "    ],\n",
    "    \"Precision\": [\n",
    "        lr_pca_eval[1], lr_sel_eval[1],\n",
    "        dt_pca_eval[1], dt_sel_eval[1],\n",
    "        rf_pca_eval[1], rf_sel_eval[1],\n",
    "        svm_pca_eval[1], svm_sel_eval[1]\n",
    "    ],\n",
    "    \"Recall\": [\n",
    "        lr_pca_eval[2], lr_sel_eval[2],\n",
    "        dt_pca_eval[2], dt_sel_eval[2],\n",
    "        rf_pca_eval[2], rf_sel_eval[2],\n",
    "        svm_pca_eval[2], svm_sel_eval[2]\n",
    "    ],\n",
    "    \"F1 Score\": [\n",
    "        lr_pca_eval[3], lr_sel_eval[3],\n",
    "        dt_pca_eval[3], dt_sel_eval[3],\n",
    "        rf_pca_eval[3], rf_sel_eval[3],\n",
    "        svm_pca_eval[3], svm_sel_eval[3]\n",
    "    ],\n",
    "    \"ROC AUC\": [\n",
    "        lr_pca_eval[4], lr_sel_eval[4],\n",
    "        dt_pca_eval[4], dt_sel_eval[4],\n",
    "        rf_pca_eval[4], rf_sel_eval[4],\n",
    "        svm_pca_eval[4], svm_sel_eval[4]\n",
    "    ]\n",
    "})\n",
    "\n",
    "# round the results to 4 decimal places\n",
    "results = results.round(4)\n",
    "results\n"
   ]
  },
  {
   "cell_type": "markdown",
   "id": "a2ff07a0",
   "metadata": {},
   "source": [
    "Choose the best model based on evaluation metrics.\n",
    "\n",
    "The priority of sorting:\n",
    "\n",
    "\n",
    "  1. ROC AUC: shows discrimination ability across thresholds.\n",
    "\n",
    "  2. Recall: most critical in medical context (catch as many patients with heart disease as possible).\n",
    "\n",
    "  3. F1 Score: balances precision and recall; useful when data is imbalanced. \n",
    "\n",
    "  4. Accuracy: overall correctness, but less important if classes are imbalanced.\n",
    "\n",
    "  5. Precision: useful if false positives are very costly (not the case here, false negatives are worse).\n"
   ]
  },
  {
   "cell_type": "code",
   "execution_count": 32,
   "id": "f294e255",
   "metadata": {},
   "outputs": [
    {
     "data": {
      "text/html": [
       "<div>\n",
       "<style scoped>\n",
       "    .dataframe tbody tr th:only-of-type {\n",
       "        vertical-align: middle;\n",
       "    }\n",
       "\n",
       "    .dataframe tbody tr th {\n",
       "        vertical-align: top;\n",
       "    }\n",
       "\n",
       "    .dataframe thead th {\n",
       "        text-align: right;\n",
       "    }\n",
       "</style>\n",
       "<table border=\"1\" class=\"dataframe\">\n",
       "  <thead>\n",
       "    <tr style=\"text-align: right;\">\n",
       "      <th></th>\n",
       "      <th>Model</th>\n",
       "      <th>Accuracy</th>\n",
       "      <th>Precision</th>\n",
       "      <th>Recall</th>\n",
       "      <th>F1 Score</th>\n",
       "      <th>ROC AUC</th>\n",
       "    </tr>\n",
       "  </thead>\n",
       "  <tbody>\n",
       "    <tr>\n",
       "      <th>5</th>\n",
       "      <td>Random Forest (Selected Features)</td>\n",
       "      <td>0.8833</td>\n",
       "      <td>0.8400</td>\n",
       "      <td>0.8750</td>\n",
       "      <td>0.8571</td>\n",
       "      <td>0.9525</td>\n",
       "    </tr>\n",
       "    <tr>\n",
       "      <th>4</th>\n",
       "      <td>Random Forest (PCA)</td>\n",
       "      <td>0.8500</td>\n",
       "      <td>0.8000</td>\n",
       "      <td>0.8333</td>\n",
       "      <td>0.8163</td>\n",
       "      <td>0.9468</td>\n",
       "    </tr>\n",
       "    <tr>\n",
       "      <th>1</th>\n",
       "      <td>Logistic Regression (Selected Features)</td>\n",
       "      <td>0.8333</td>\n",
       "      <td>0.7500</td>\n",
       "      <td>0.8750</td>\n",
       "      <td>0.8077</td>\n",
       "      <td>0.9444</td>\n",
       "    </tr>\n",
       "    <tr>\n",
       "      <th>7</th>\n",
       "      <td>SVM (Selected Features)</td>\n",
       "      <td>0.8833</td>\n",
       "      <td>0.8696</td>\n",
       "      <td>0.8333</td>\n",
       "      <td>0.8511</td>\n",
       "      <td>0.9421</td>\n",
       "    </tr>\n",
       "    <tr>\n",
       "      <th>0</th>\n",
       "      <td>Logistic Regression (PCA)</td>\n",
       "      <td>0.8500</td>\n",
       "      <td>0.7586</td>\n",
       "      <td>0.9167</td>\n",
       "      <td>0.8302</td>\n",
       "      <td>0.9387</td>\n",
       "    </tr>\n",
       "    <tr>\n",
       "      <th>6</th>\n",
       "      <td>SVM (PCA)</td>\n",
       "      <td>0.9000</td>\n",
       "      <td>0.8462</td>\n",
       "      <td>0.9167</td>\n",
       "      <td>0.8800</td>\n",
       "      <td>0.9352</td>\n",
       "    </tr>\n",
       "    <tr>\n",
       "      <th>3</th>\n",
       "      <td>Decision Tree (Selected Features)</td>\n",
       "      <td>0.8167</td>\n",
       "      <td>0.7407</td>\n",
       "      <td>0.8333</td>\n",
       "      <td>0.7843</td>\n",
       "      <td>0.8194</td>\n",
       "    </tr>\n",
       "    <tr>\n",
       "      <th>2</th>\n",
       "      <td>Decision Tree (PCA)</td>\n",
       "      <td>0.7333</td>\n",
       "      <td>0.6429</td>\n",
       "      <td>0.7500</td>\n",
       "      <td>0.6923</td>\n",
       "      <td>0.7361</td>\n",
       "    </tr>\n",
       "  </tbody>\n",
       "</table>\n",
       "</div>"
      ],
      "text/plain": [
       "                                     Model  Accuracy  Precision  Recall  \\\n",
       "5        Random Forest (Selected Features)    0.8833     0.8400  0.8750   \n",
       "4                      Random Forest (PCA)    0.8500     0.8000  0.8333   \n",
       "1  Logistic Regression (Selected Features)    0.8333     0.7500  0.8750   \n",
       "7                  SVM (Selected Features)    0.8833     0.8696  0.8333   \n",
       "0                Logistic Regression (PCA)    0.8500     0.7586  0.9167   \n",
       "6                                SVM (PCA)    0.9000     0.8462  0.9167   \n",
       "3        Decision Tree (Selected Features)    0.8167     0.7407  0.8333   \n",
       "2                      Decision Tree (PCA)    0.7333     0.6429  0.7500   \n",
       "\n",
       "   F1 Score  ROC AUC  \n",
       "5    0.8571   0.9525  \n",
       "4    0.8163   0.9468  \n",
       "1    0.8077   0.9444  \n",
       "7    0.8511   0.9421  \n",
       "0    0.8302   0.9387  \n",
       "6    0.8800   0.9352  \n",
       "3    0.7843   0.8194  \n",
       "2    0.6923   0.7361  "
      ]
     },
     "execution_count": 32,
     "metadata": {},
     "output_type": "execute_result"
    }
   ],
   "source": [
    "sort_metrics = [\"ROC AUC\", \"Recall\", \"F1 Score\", \"Accuracy\", \"Precision\"]\n",
    "metrics_str = \", \".join(sort_metrics)\n",
    "\n",
    "results.sort_values(by=sort_metrics, ascending=False, inplace=True)\n",
    "results"
   ]
  },
  {
   "cell_type": "code",
   "execution_count": 33,
   "id": "9ddbbf54",
   "metadata": {},
   "outputs": [],
   "source": [
    "# save results to supervised_baseline_evaluation_results.txt\n",
    "with open(file_path, \"a\") as f:\n",
    "    f.write(f\"Summary of Model Performance (Sorted descending based on {metrics_str} respectively):\\n\\n\")\n",
    "    f.write(results.to_string(index=False))\n",
    "    f.write(\"\\n\")"
   ]
  },
  {
   "cell_type": "markdown",
   "id": "d6a43be1",
   "metadata": {},
   "source": [
    "Best PCA features model: SVM\n",
    "Logistic Regression has slightly better ROC AUC (approximately equal), also they equal in Recall, but SVM has all other metrics better.\n",
    "\n",
    "Best selected features model: Logistic Regression as it has the better Recall and slightly better ROC AUC (approximately equal) with SVM."
   ]
  },
  {
   "cell_type": "markdown",
   "id": "edc14939",
   "metadata": {},
   "source": [
    "# Save Best Models"
   ]
  },
  {
   "cell_type": "code",
   "execution_count": 34,
   "id": "9c4f1ba8",
   "metadata": {},
   "outputs": [
    {
     "data": {
      "text/plain": [
       "['..\\\\models\\\\best_baseline_selected_features_model_logistic_regression.pkl']"
      ]
     },
     "execution_count": 34,
     "metadata": {},
     "output_type": "execute_result"
    }
   ],
   "source": [
    "dump(svm_pca_model, path.join(\"..\", \"models\", \"best_baseline_pca_model_svm.pkl\"))\n",
    "dump(lr_selected_model, path.join(\"..\", \"models\", \"best_baseline_selected_features_model_logistic_regression.pkl\"))"
   ]
  }
 ],
 "metadata": {
  "kernelspec": {
   "display_name": ".venv",
   "language": "python",
   "name": "python3"
  },
  "language_info": {
   "codemirror_mode": {
    "name": "ipython",
    "version": 3
   },
   "file_extension": ".py",
   "mimetype": "text/x-python",
   "name": "python",
   "nbconvert_exporter": "python",
   "pygments_lexer": "ipython3",
   "version": "3.11.0"
  }
 },
 "nbformat": 4,
 "nbformat_minor": 5
}
